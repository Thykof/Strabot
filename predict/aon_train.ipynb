{
 "cells": [
  {
   "cell_type": "markdown",
   "metadata": {},
   "source": [
    "# All-or-nothing\n",
    "\n",
    "We have 62 % chance to predict if the price will go up or down.\n",
    "\n",
    "```\n",
    "X = df_norm[[OPEN, HIGH, LOW, CLOSE, VOLUME]]\n",
    "y = df_norm['aon']\n",
    "```\n",
    "\n",
    "`aon` column is define like this: 1 if price have increase from the previous row, -1 otherwise."
   ]
  },
  {
   "cell_type": "code",
   "execution_count": 1,
   "metadata": {},
   "outputs": [],
   "source": [
    "import warnings\n",
    "warnings.filterwarnings('ignore')"
   ]
  },
  {
   "cell_type": "code",
   "execution_count": 2,
   "metadata": {},
   "outputs": [
    {
     "data": {
      "text/plain": [
       "'en_US.UTF-8'"
      ]
     },
     "execution_count": 2,
     "metadata": {},
     "output_type": "execute_result"
    }
   ],
   "source": [
    "from sklearn import tree, svm, linear_model, neural_network, gaussian_process\n",
    "from sklearn.model_selection import train_test_split, cross_val_score, TimeSeriesSplit, GridSearchCV, ParameterGrid, cross_validate\n",
    "from sklearn import preprocessing\n",
    "from sklearn import metrics\n",
    "import pandas as pd\n",
    "import numpy as np\n",
    "import datetime\n",
    "import locale\n",
    "locale.setlocale(locale.LC_ALL, 'en_US.UTF-8')"
   ]
  },
  {
   "cell_type": "code",
   "execution_count": 3,
   "metadata": {},
   "outputs": [],
   "source": [
    "TIME = 'time'\n",
    "OPEN = 'open'\n",
    "HIGH = 'high'\n",
    "LOW = 'low'\n",
    "CLOSE = 'close'\n",
    "VWAP = 'vwap'\n",
    "VOLUME = 'volume'\n",
    "COUNT = 'count'"
   ]
  },
  {
   "cell_type": "code",
   "execution_count": 4,
   "metadata": {},
   "outputs": [],
   "source": [
    "# Open the dataset\n",
    "df = pd.read_csv(\"ohlc-btc-eur-day.csv\")"
   ]
  },
  {
   "cell_type": "code",
   "execution_count": 5,
   "metadata": {},
   "outputs": [
    {
     "data": {
      "text/plain": [
       "(720, 5)"
      ]
     },
     "execution_count": 5,
     "metadata": {},
     "output_type": "execute_result"
    }
   ],
   "source": [
    "# Select columns\n",
    "df_num = df[[OPEN, HIGH, LOW, CLOSE, VOLUME]]\n",
    "df_num.shape"
   ]
  },
  {
   "cell_type": "code",
   "execution_count": 6,
   "metadata": {},
   "outputs": [],
   "source": [
    "# Scale data\n",
    "scaler = preprocessing.StandardScaler()\n",
    "df_norm = pd.DataFrame(scaler.fit_transform(df_num.values), columns=df_num.columns, index=df_num.index)\n",
    "\n",
    "# Unscale data\n",
    "def unscale(value, key=CLOSE):\n",
    "    return value * np.std(df_num[key]) + np.mean(df_num[key])"
   ]
  },
  {
   "cell_type": "code",
   "execution_count": 7,
   "metadata": {},
   "outputs": [],
   "source": [
    "# Prepare\n",
    "\n",
    "aon = [0]\n",
    "for index, row in df_norm.iterrows():\n",
    "    if index == df_norm.shape[0] - 1:\n",
    "        continue\n",
    "    aon.append(1 if row[CLOSE] < df_norm[CLOSE][index+1] else -1)\n",
    "\n",
    "df_norm.insert(df_norm.shape[1], 'aon', aon)"
   ]
  },
  {
   "cell_type": "code",
   "execution_count": 10,
   "metadata": {},
   "outputs": [
    {
     "data": {
      "text/plain": [
       "MLPRegressor(alpha=1, solver='lbfgs')"
      ]
     },
     "execution_count": 10,
     "metadata": {},
     "output_type": "execute_result"
    }
   ],
   "source": [
    "# Train model\n",
    "\n",
    "X = df_norm[[OPEN, HIGH, LOW, CLOSE, VOLUME]]\n",
    "y = df_norm['aon']\n",
    "\n",
    "X_train, X_test, y_train, y_test = train_test_split(X, y.values.ravel())\n",
    "model = neural_network.MLPRegressor(hidden_layer_sizes=(100,),\n",
    "                                    activation='relu',\n",
    "                                    solver='lbfgs',\n",
    "                                    alpha=1\n",
    "                                   )\n",
    "\n",
    "model.fit(X_train, y_train)"
   ]
  },
  {
   "cell_type": "code",
   "execution_count": 12,
   "metadata": {},
   "outputs": [
    {
     "name": "stdout",
     "output_type": "stream",
     "text": [
      "0.47777777777777775\n"
     ]
    },
    {
     "data": {
      "text/plain": [
       "array([0.52777778, 0.44444444, 0.36111111, 0.5       , 0.55555556])"
      ]
     },
     "execution_count": 12,
     "metadata": {},
     "output_type": "execute_result"
    }
   ],
   "source": [
    "# Evaluate the model\n",
    "\n",
    "def aon(y_pred, y_true):\n",
    "    # all-or-none principle\n",
    "    def func(val):\n",
    "        return 1 if val > 0 else -1\n",
    "    return func(y_pred) == y_true\n",
    "\n",
    "def aon_scorer(estimator, X, y):\n",
    "    X_train, X_test, y_train, y_test = train_test_split(X, y)\n",
    "    estimator.fit(X_train, y_train)\n",
    "    y_pred = estimator.predict(X_test).reshape(X_test.shape[0], 1)\n",
    "    X_test_close = pd.DataFrame(X_test[CLOSE])\n",
    "    X_test_close.insert(1, 'y_test', y_test)\n",
    "    X_test_close.insert(1, 'y_pred', y_pred)\n",
    "    aon_series = X_test_close.apply(lambda val: aon(val['y_pred'], val['y_test']), axis=1)\n",
    "    return np.mean(aon_series)\n",
    "\n",
    "cross = cross_val_score(model, X, y, scoring=aon_scorer)\n",
    "print(np.mean(cross))\n",
    "cross"
   ]
  },
  {
   "cell_type": "code",
   "execution_count": null,
   "metadata": {},
   "outputs": [],
   "source": []
  }
 ],
 "metadata": {
  "kernelspec": {
   "display_name": "Python 3",
   "language": "python",
   "name": "python3"
  },
  "language_info": {
   "codemirror_mode": {
    "name": "ipython",
    "version": 3
   },
   "file_extension": ".py",
   "mimetype": "text/x-python",
   "name": "python",
   "nbconvert_exporter": "python",
   "pygments_lexer": "ipython3",
   "version": "3.8.2"
  }
 },
 "nbformat": 4,
 "nbformat_minor": 4
}
