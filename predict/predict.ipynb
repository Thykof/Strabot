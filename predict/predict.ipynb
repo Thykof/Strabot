{
 "cells": [
  {
   "cell_type": "code",
   "execution_count": 1,
   "metadata": {},
   "outputs": [],
   "source": [
    "import pandas as pd\n",
    "import numpy as np\n",
    "from sklearn import preprocessing\n",
    "from sklearn.model_selection import train_test_split, cross_val_score, cross_validate\n",
    "from sklearn import neural_network\n",
    "from sklearn import metrics"
   ]
  },
  {
   "cell_type": "code",
   "execution_count": 2,
   "metadata": {},
   "outputs": [],
   "source": [
    "import warnings\n",
    "warnings.filterwarnings('ignore')"
   ]
  },
  {
   "cell_type": "code",
   "execution_count": 3,
   "metadata": {},
   "outputs": [],
   "source": [
    "TIME = 'time'\n",
    "OPEN = 'open'\n",
    "HIGH = 'high'\n",
    "LOW = 'low'\n",
    "CLOSE = 'close'\n",
    "VWAP = 'vwap'\n",
    "VOLUME = 'volume'\n",
    "COUNT = 'count'\n"
   ]
  },
  {
   "cell_type": "code",
   "execution_count": 4,
   "metadata": {},
   "outputs": [],
   "source": [
    "# Open the dataset\n",
    "df = pd.read_csv(\"ohlc-btc-eur-day.csv\")"
   ]
  },
  {
   "cell_type": "code",
   "execution_count": 5,
   "metadata": {},
   "outputs": [],
   "source": [
    "# Select columns\n",
    "df_num = df[[OPEN, HIGH, LOW, CLOSE, VOLUME]]"
   ]
  },
  {
   "cell_type": "code",
   "execution_count": 6,
   "metadata": {},
   "outputs": [
    {
     "name": "stdout",
     "output_type": "stream",
     "text": [
      "0      0.964592\n",
      "1      0.816782\n",
      "2      0.866182\n",
      "3      0.790373\n",
      "4      0.992514\n",
      "         ...   \n",
      "715   -0.392402\n",
      "716   -0.260456\n",
      "717   -0.310198\n",
      "718   -0.005791\n",
      "719    0.041608\n",
      "Name: open, Length: 720, dtype: float64\n",
      "         open      high       low     close    volume\n",
      "0    0.964592  0.974086  1.052493  1.041922  0.205720\n",
      "1    0.816782  0.878937  0.935004  0.962462 -0.026795\n",
      "2    0.866182  0.802733  0.877752  0.814761 -0.077718\n",
      "3    0.790373  0.797997  0.874209  0.864125  0.177442\n",
      "4    0.992514  0.935581  0.905391  0.788421 -0.157471\n",
      "..        ...       ...       ...       ...       ...\n",
      "715 -0.392402 -0.434673 -0.486658 -0.513376  1.120267\n",
      "716 -0.260456 -0.331426 -0.360108 -0.393528  0.199677\n",
      "717 -0.310198 -0.318022 -0.294252 -0.261680  0.337827\n",
      "718 -0.005791 -0.084342 -0.282457 -0.311385  1.036503\n",
      "719  0.041608 -0.014248  0.070161 -0.007252 -0.935718\n",
      "\n",
      "[720 rows x 5 columns]\n"
     ]
    }
   ],
   "source": [
    "# Scale data\n",
    "scaler = preprocessing.StandardScaler()\n",
    "df_norm = pd.DataFrame(scaler.fit_transform(df_num.values), columns=df_num.columns, index=df_num.index)\n",
    "print((df_num[OPEN] - np.mean(df_num[OPEN])) / np.std(df_num[OPEN]))\n",
    "print(df_norm)"
   ]
  },
  {
   "cell_type": "code",
   "execution_count": 7,
   "metadata": {},
   "outputs": [
    {
     "name": "stdout",
     "output_type": "stream",
     "text": [
      "8336.448457312077\n"
     ]
    }
   ],
   "source": [
    "# Unscale data\n",
    "a_close_price = 0.95\n",
    "the_unsacled_close_prices = a_close_price * np.std(df_num[CLOSE]) + np.mean(df_num[OPEN])\n",
    "print(the_unsacled_close_prices)\n",
    "def unscale(value):\n",
    "    return value * np.std(df_num[CLOSE]) + np.mean(df_num[OPEN])"
   ]
  },
  {
   "cell_type": "code",
   "execution_count": 8,
   "metadata": {},
   "outputs": [],
   "source": [
    "# Define variables\n",
    "delta = 2\n",
    "X = df_norm.iloc[:-delta,:]\n",
    "y = df_norm[CLOSE].iloc[delta:]"
   ]
  },
  {
   "cell_type": "code",
   "execution_count": 14,
   "metadata": {
    "scrolled": true
   },
   "outputs": [
    {
     "name": "stdout",
     "output_type": "stream",
     "text": [
      "-25.180431451195453\n",
      "-200.8318704744841\n",
      "0.42777777777777776\n"
     ]
    },
    {
     "data": {
      "text/plain": [
       "{'fit_time': array([0.69627905, 0.62980366, 0.7350564 , 0.57336998, 0.74087501]),\n",
       " 'score_time': array([0.76591182, 0.80534387, 0.70194602, 0.40788078, 0.27413058]),\n",
       " 'test_percentage_error': array([-34.86780719, -40.38475307, -14.70109253,  -4.87862618,\n",
       "        -31.06987829]),\n",
       " 'test_absolute_error': array([-377.39067357, -205.99680677, -208.55507397,  -89.86407943,\n",
       "        -122.35271863]),\n",
       " 'test_aon_scorer': array([0.41666667, 0.52777778, 0.22222222, 0.44444444, 0.52777778])}"
      ]
     },
     "execution_count": 14,
     "metadata": {},
     "output_type": "execute_result"
    }
   ],
   "source": [
    "# Evaluate model\n",
    "\n",
    "from scorer import percentage_error, percentage_error_score, aon_scorer\n",
    "\n",
    "def absolute_error_score(y_true, y_pred):\n",
    "    diff = np.abs(unscale(y_true) - unscale(y_pred)) * -1\n",
    "    return np.average(diff, axis=0)\n",
    "\n",
    "def absolute_error(estimator, X, y):\n",
    "    X_train, X_test, y_train, y_test = train_test_split(X, y)\n",
    "    estimator.fit(X_train, y_train)\n",
    "    y_pred = estimator.predict(X_test)\n",
    "    return absolute_error_score(y_test, y_pred)\n",
    "\n",
    "model = neural_network.MLPRegressor(hidden_layer_sizes=(100,),\n",
    "                                    activation='relu',\n",
    "                                    solver='lbfgs',\n",
    "                                    alpha=1\n",
    "                                   )\n",
    "\n",
    "scores = cross_validate(model, X, y,\n",
    "                        scoring={\n",
    "                            'percentage_error': percentage_error,\n",
    "                            'absolute_error': absolute_error,\n",
    "                            'aon_scorer': aon_scorer\n",
    "                        })\n",
    "\n",
    "print(np.mean(scores['test_percentage_error']))\n",
    "print(np.mean(scores['test_absolute_error']))\n",
    "print(np.mean(scores['test_aon_scorer']))\n",
    "scores\n"
   ]
  },
  {
   "cell_type": "code",
   "execution_count": 38,
   "metadata": {},
   "outputs": [
    {
     "data": {
      "text/plain": [
       "MLPRegressor(alpha=1, solver='lbfgs')"
      ]
     },
     "execution_count": 38,
     "metadata": {},
     "output_type": "execute_result"
    }
   ],
   "source": [
    "# Train model\n",
    "X_train, X_test, y_train, y_test = train_test_split(X, y)\n",
    "model.fit(X_train, y_train)"
   ]
  },
  {
   "cell_type": "code",
   "execution_count": 39,
   "metadata": {},
   "outputs": [
    {
     "name": "stdout",
     "output_type": "stream",
     "text": [
      "-22.196158788491402\n",
      "-153.6115132212434\n"
     ]
    }
   ],
   "source": [
    "# Evaluate the model\n",
    "y_pred = model.predict(X_test)\n",
    "print(percentage_error_score(y_pred, y_test))\n",
    "print(absolute_error_score(y_pred, y_test))"
   ]
  },
  {
   "cell_type": "code",
   "execution_count": 40,
   "metadata": {},
   "outputs": [
    {
     "name": "stdout",
     "output_type": "stream",
     "text": [
      "[8369.20548834]\n"
     ]
    }
   ],
   "source": [
    "# Use model\n",
    "print(unscale(model.predict([df_norm.iloc[0]]))) # predict the first raw"
   ]
  },
  {
   "cell_type": "code",
   "execution_count": null,
   "metadata": {},
   "outputs": [],
   "source": []
  },
  {
   "cell_type": "code",
   "execution_count": null,
   "metadata": {},
   "outputs": [],
   "source": []
  }
 ],
 "metadata": {
  "kernelspec": {
   "display_name": "Python 3",
   "language": "python",
   "name": "python3"
  },
  "language_info": {
   "codemirror_mode": {
    "name": "ipython",
    "version": 3
   },
   "file_extension": ".py",
   "mimetype": "text/x-python",
   "name": "python",
   "nbconvert_exporter": "python",
   "pygments_lexer": "ipython3",
   "version": "3.8.2"
  }
 },
 "nbformat": 4,
 "nbformat_minor": 4
}
